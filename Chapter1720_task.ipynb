{
 "cells": [
  {
   "cell_type": "markdown",
   "metadata": {
    "id": "aLkxKxnFLowa"
   },
   "source": [
    "안녕하세요. 수강생 여러분~! Chapter17 ~ 20 수업은 잘 들으셨나요?\n",
    "\n",
    "Chapter17 ~ 20의 수업 내용을 바탕으로 아래 문제를 풀어주시면 됩니다.\n",
    "\n",
    "\n",
    "<br>\n",
    "\n",
    "\n",
    "[**답변 입력 방법**]\n",
    "\n",
    "문제 아래에 있는 코드 입력창에 정답코드를 작성하신 후  __▷ 버튼을 클릭해 코드를 실행__ 해보세요<br>"
   ]
  },
  {
   "cell_type": "markdown",
   "metadata": {
    "id": "pYJ1dSggLwcG"
   },
   "source": [
    "__[문제1]__\n",
    "\n",
    "print_even 리스트 내에 있는 값 중 짝수만 화면에 출력되도록 print_score 함수를 생성 후 결과값을 출력해주세요\n",
    "\n",
    "print_even ([1, 3, 2, 10, 12, 11, 15])"
   ]
  },
  {
   "cell_type": "code",
   "execution_count": 2,
   "metadata": {
    "id": "PTqEeebbLmCA"
   },
   "outputs": [
    {
     "name": "stdout",
     "output_type": "stream",
     "text": [
      "2\n",
      "10\n",
      "12\n"
     ]
    }
   ],
   "source": [
    "def print_score(print_even):\n",
    "    for num in print_even:\n",
    "        if num % 2 == 0:\n",
    "            print(num)\n",
    "\n",
    "print_score([1, 3, 2, 10, 12, 11, 15])"
   ]
  },
  {
   "cell_type": "markdown",
   "metadata": {},
   "source": [
    "---"
   ]
  },
  {
   "cell_type": "markdown",
   "metadata": {
    "id": "ZkGserEsQS0L"
   },
   "source": [
    "__[문제2]__\n",
    "\n",
    "비어있는 오즈 (oz) 클래스를 \"정의\" 해보세요."
   ]
  },
  {
   "cell_type": "code",
   "execution_count": 2,
   "metadata": {
    "id": "dJbcWWlwL0iK"
   },
   "outputs": [],
   "source": [
    "class oz:\n",
    "   pass"
   ]
  },
  {
   "cell_type": "markdown",
   "metadata": {},
   "source": [
    "---"
   ]
  },
  {
   "cell_type": "markdown",
   "metadata": {
    "id": "Ofy86rZfL1Mg"
   },
   "source": [
    "__[문제3]__\n",
    "\n",
    "오즈(oz) 클래스의 인스턴스를 \"생성\" 하고 이를 coding 변수로 할당해보세요."
   ]
  },
  {
   "cell_type": "code",
   "execution_count": 6,
   "metadata": {
    "id": "5NhWiuULL2Xa"
   },
   "outputs": [],
   "source": [
    "class oz:\n",
    "    pass\n",
    "\n",
    "coding = oz()"
   ]
  },
  {
   "cell_type": "markdown",
   "metadata": {},
   "source": [
    "---"
   ]
  },
  {
   "cell_type": "markdown",
   "metadata": {
    "id": "5T6EMx8EL26b"
   },
   "source": [
    "[문제4]\n",
    "\n",
    "오즈(oz) 클래스에 \"클래스 정복\"을 출력하는 기본 생성자를 추가해주세요"
   ]
  },
  {
   "cell_type": "code",
   "execution_count": 7,
   "metadata": {
    "id": "Zq35PXA0L3-m"
   },
   "outputs": [
    {
     "name": "stdout",
     "output_type": "stream",
     "text": [
      "클래스 정복\n"
     ]
    }
   ],
   "source": [
    "class oz:\n",
    "    pass\n",
    "\n",
    "class oz:\n",
    "    print(\"클래스 정복\")\n",
    "\n",
    "coding = oz()"
   ]
  },
  {
   "cell_type": "markdown",
   "metadata": {},
   "source": [
    "---"
   ]
  },
  {
   "cell_type": "markdown",
   "metadata": {
    "id": "htuycQWSL4l-"
   },
   "source": [
    "__[문제5]__\n",
    "\n",
    "오즈 (oz) 클래스에 (이름, 나이, 코딩레벨)을 받는 생성자를 추가해주세요\n",
    "\n",
    "coding = oz(\"김코\", 30, \"A\")\n"
   ]
  },
  {
   "cell_type": "code",
   "execution_count": 8,
   "metadata": {
    "id": "A7h3I8CWL5ox"
   },
   "outputs": [],
   "source": [
    "class oz:\n",
    "    pass\n",
    "\n",
    "class oz:\n",
    "    def __init__(self, name, age, cod_lev):\n",
    "        self.name = name\n",
    "        self.age = age\n",
    "        self.lev = cod_lev\n",
    "\n",
    "coding = oz(\"김코\", 30, \"A\")"
   ]
  },
  {
   "cell_type": "markdown",
   "metadata": {},
   "source": [
    "---"
   ]
  },
  {
   "cell_type": "markdown",
   "metadata": {
    "id": "ZGDLHI5xL6Bd"
   },
   "source": [
    "__[문제6]__\n",
    "\n",
    "5번 문제에서 생성한 인스턴스의 이름, 나이, 성별을 출력해주세요.\n",
    "\n",
    "\n",
    "\n",
    "출력 결과  ) <br>\n",
    "이름 : 김코  \n",
    "나이 : 30  \n",
    "코딩레벨 : A  \n",
    "\n",
    "__Tips__\n",
    "\n",
    "\n",
    "- 인스턴스 변수에 접근하여 값을 출력하면 됩니다  : )"
   ]
  },
  {
   "cell_type": "code",
   "execution_count": 13,
   "metadata": {
    "id": "qCrPejI_L8Wr"
   },
   "outputs": [
    {
     "name": "stdout",
     "output_type": "stream",
     "text": [
      "이름 : 김코\n",
      "나이 : 30\n",
      "코딩 레벨 : A\n"
     ]
    }
   ],
   "source": [
    "class oz:\n",
    "    pass\n",
    "\n",
    "class oz:\n",
    "    def __init__(self, name, age, cod_lev):\n",
    "        self.name = name\n",
    "        self.age = age\n",
    "        self.lev = cod_lev\n",
    "\n",
    "coding = oz(\"김코\", 30, \"A\")\n",
    "\n",
    "print(f\"이름 : {coding.name}\")\n",
    "print(f\"나이 : {coding.age}\")\n",
    "print(f\"코딩 레벨 : {coding.lev}\")"
   ]
  },
  {
   "cell_type": "markdown",
   "metadata": {},
   "source": [
    "---"
   ]
  },
  {
   "cell_type": "markdown",
   "metadata": {
    "id": "RmtPk-A1L8z4"
   },
   "source": [
    "__[문제7]__\n",
    "\n",
    "오즈 (oz) 클래스에서 이름, 나이, 성별을 출력하는 who() 메소드를 추가하고 who()메소드를 이용해 아래 출력 결과를 만들어주세요\n",
    "\n",
    "\n",
    "출력 결과 ) <br>\n",
    "이름: 김코, 나이: 30, 코딩레벨: A"
   ]
  },
  {
   "cell_type": "code",
   "execution_count": 14,
   "metadata": {
    "id": "fvrvm87vL_HZ"
   },
   "outputs": [
    {
     "ename": "TypeError",
     "evalue": "oz() takes no arguments",
     "output_type": "error",
     "traceback": [
      "\u001b[31m---------------------------------------------------------------------------\u001b[39m",
      "\u001b[31mTypeError\u001b[39m                                 Traceback (most recent call last)",
      "\u001b[36mCell\u001b[39m\u001b[36m \u001b[39m\u001b[32mIn[14]\u001b[39m\u001b[32m, line 4\u001b[39m\n\u001b[32m      1\u001b[39m \u001b[38;5;28;01mclass\u001b[39;00m\u001b[38;5;250m \u001b[39m\u001b[34;01moz\u001b[39;00m:\n\u001b[32m      2\u001b[39m     \u001b[38;5;28;01mpass\u001b[39;00m\n\u001b[32m----> \u001b[39m\u001b[32m4\u001b[39m \u001b[38;5;28;43;01mclass\u001b[39;49;00m\u001b[38;5;250;43m \u001b[39;49m\u001b[34;43;01moz\u001b[39;49;00m\u001b[43m:\u001b[49m\n\u001b[32m      5\u001b[39m \u001b[43m    \u001b[49m\u001b[38;5;28;43;01mdef\u001b[39;49;00m\u001b[38;5;250;43m \u001b[39;49m\u001b[34;43m__init__\u001b[39;49m\u001b[43m(\u001b[49m\u001b[38;5;28;43mself\u001b[39;49m\u001b[43m,\u001b[49m\u001b[43m \u001b[49m\u001b[43mname\u001b[49m\u001b[43m,\u001b[49m\u001b[43m \u001b[49m\u001b[43mage\u001b[49m\u001b[43m,\u001b[49m\u001b[43m \u001b[49m\u001b[43mcod_lev\u001b[49m\u001b[43m)\u001b[49m\u001b[43m:\u001b[49m\n\u001b[32m      6\u001b[39m \u001b[43m        \u001b[49m\u001b[38;5;28;43mself\u001b[39;49m\u001b[43m.\u001b[49m\u001b[43mname\u001b[49m\u001b[43m \u001b[49m\u001b[43m=\u001b[49m\u001b[43m \u001b[49m\u001b[43mname\u001b[49m\n",
      "\u001b[36mCell\u001b[39m\u001b[36m \u001b[39m\u001b[32mIn[14]\u001b[39m\u001b[32m, line 13\u001b[39m, in \u001b[36moz\u001b[39m\u001b[34m()\u001b[39m\n\u001b[32m     10\u001b[39m \u001b[38;5;28;01mdef\u001b[39;00m\u001b[38;5;250m \u001b[39m\u001b[34mwho\u001b[39m(\u001b[38;5;28mself\u001b[39m):\n\u001b[32m     11\u001b[39m     \u001b[38;5;28mprint\u001b[39m(\u001b[33mf\u001b[39m\u001b[33m\"\u001b[39m\u001b[33m이름 : \u001b[39m\u001b[38;5;132;01m{\u001b[39;00m\u001b[38;5;28mself\u001b[39m.name\u001b[38;5;132;01m}\u001b[39;00m\u001b[38;5;130;01m\\n\u001b[39;00m\u001b[33m 나이 : \u001b[39m\u001b[38;5;132;01m{\u001b[39;00m\u001b[38;5;28mself\u001b[39m.age\u001b[38;5;132;01m}\u001b[39;00m\u001b[38;5;130;01m\\n\u001b[39;00m\u001b[33m 코딩레벨 : \u001b[39m\u001b[38;5;132;01m{\u001b[39;00m\u001b[38;5;28mself\u001b[39m.lev\u001b[38;5;132;01m}\u001b[39;00m\u001b[33m\"\u001b[39m)\n\u001b[32m---> \u001b[39m\u001b[32m13\u001b[39m coding = \u001b[43moz\u001b[49m\u001b[43m(\u001b[49m\u001b[33;43m\"\u001b[39;49m\u001b[33;43m김코\u001b[39;49m\u001b[33;43m\"\u001b[39;49m\u001b[43m,\u001b[49m\u001b[43m \u001b[49m\u001b[32;43m30\u001b[39;49m\u001b[43m,\u001b[49m\u001b[43m \u001b[49m\u001b[33;43m\"\u001b[39;49m\u001b[33;43mA\u001b[39;49m\u001b[33;43m\"\u001b[39;49m\u001b[43m)\u001b[49m\n\u001b[32m     14\u001b[39m coding.who()\n",
      "\u001b[31mTypeError\u001b[39m: oz() takes no arguments"
     ]
    }
   ],
   "source": [
    "class oz:\n",
    "    pass\n",
    "\n",
    "class oz:\n",
    "    def __init__(self, name, age, cod_lev):\n",
    "        self.name = name\n",
    "        self.age = age\n",
    "        self.lev = cod_lev\n",
    "\n",
    "    def who(self):\n",
    "        print(f\"이름 : {self.name}\\n 나이 : {self.age}\\n 코딩레벨 : {self.lev}\")\n",
    "\n",
    "    coding = oz(\"김코\", 30, \"A\")\n",
    "    coding.who()"
   ]
  }
 ],
 "metadata": {
  "colab": {
   "authorship_tag": "ABX9TyMfxSNOybrh/E7+DQqfYMY3",
   "provenance": []
  },
  "kernelspec": {
   "display_name": "Python 3",
   "name": "python3"
  },
  "language_info": {
   "codemirror_mode": {
    "name": "ipython",
    "version": 3
   },
   "file_extension": ".py",
   "mimetype": "text/x-python",
   "name": "python",
   "nbconvert_exporter": "python",
   "pygments_lexer": "ipython3",
   "version": "3.13.2"
  }
 },
 "nbformat": 4,
 "nbformat_minor": 0
}
